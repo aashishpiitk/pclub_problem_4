{
 "cells": [
  {
   "cell_type": "code",
   "execution_count": 2,
   "metadata": {},
   "outputs": [],
   "source": [
    "import numpy as np"
   ]
  },
  {
   "cell_type": "code",
   "execution_count": 74,
   "metadata": {},
   "outputs": [],
   "source": [
    "def computeLinearReg(X,y,theta,alpha):\n",
    "    [m,n]=X.shape\n",
    "    H=np.dot(X,theta)\n",
    "    error=H-y\n",
    "    J=(1/(2*m))*sum(np.multiply(error,error))#cost\n",
    "    grad=np.multiply((alpha/m),(np.dot(X.T,error)))\n",
    "    return [J,grad]"
   ]
  },
  {
   "cell_type": "code",
   "execution_count": 92,
   "metadata": {},
   "outputs": [],
   "source": [
    "def feature_generator(X,degree):\n",
    "    x1=X[:,0]#m *1\n",
    "    x2=X[:,1]#m*1\n",
    "    out=np.ones([X.shape[0],1])#m*n\n",
    "    for i in range(1,degree+1):\n",
    "        for j in range(0,i+1):\n",
    "            temp=np.multiply(np.power(x1,i-j),np.power(x2,j))\n",
    "            #print(temp.shape)\n",
    "            #print(out.shape)\n",
    "            out=np.append(out,temp.reshape(-1,1),axis=1)\n",
    "    return out"
   ]
  },
  {
   "cell_type": "code",
   "execution_count": 58,
   "metadata": {},
   "outputs": [],
   "source": [
    "def gradient_descent(X,y,theta,alpha,num_iterations):\n",
    "    J_history=np.zeros([num_iterations,1])\n",
    "    for i in range(num_iterations):\n",
    "        a=computeLinearReg(X,y,theta,alpha)\n",
    "        J_history=a[0]\n",
    "        grad=a[1]\n",
    "        theta=theta-grad\n",
    "    return theta"
   ]
  },
  {
   "cell_type": "code",
   "execution_count": 110,
   "metadata": {},
   "outputs": [],
   "source": [
    "def polynomial_regression(X_train,y,theta,alpha,degree,X_test,num_iterations):\n",
    "    X=X_train\n",
    "    [m,n]=X.shape\n",
    "    X_mod=feature_generator(X,degree)#m*some number\n",
    "    theta=np.random.randn(X_mod.shape[1],1)\n",
    "    theta=gradient_descent(X_mod,y,theta,alpha,num_iterations)#n+1 * 1\n",
    "    #temp=np.ones([X.shape[0],1])\n",
    "    X_test=feature_generator(X_test,degree)\n",
    "    #X_test=np.append(temp,X_test,axis=1)\n",
    "    predict=np.dot(X_test,theta)\n",
    "    return predict"
   ]
  },
  {
   "cell_type": "code",
   "execution_count": 89,
   "metadata": {},
   "outputs": [
    {
     "name": "stdout",
     "output_type": "stream",
     "text": [
      "[[10  1  2  3]\n",
      " [11  3  4  5]]\n"
     ]
    }
   ],
   "source": [
    "a=np.array([[1,2,3],[3,4,5]])\n",
    "[m,n]=a.shape\n",
    "a.T\n",
    "b=[[10],[11]]\n",
    "a=np.append(b,a,axis=1)\n",
    "c=[[2],[3]]\n",
    "print(a)"
   ]
  },
  {
   "cell_type": "code",
   "execution_count": 100,
   "metadata": {},
   "outputs": [],
   "source": [
    "X=np.array([[1,2],[3,4]])\n",
    "y=[[8],[19]]\n",
    "theta=[[0],[0],[0]]\n",
    "\n",
    "#a=computeLinearReg(X,y,theta,0.1)\n",
    "#print(gradient_descent(X,y,theta,0.1,10))"
   ]
  },
  {
   "cell_type": "code",
   "execution_count": 101,
   "metadata": {},
   "outputs": [
    {
     "name": "stdout",
     "output_type": "stream",
     "text": [
      "[[1. 1. 2.]\n",
      " [1. 3. 4.]]\n"
     ]
    }
   ],
   "source": [
    "print(feature_generator(np.array([[1,2],[3,4]]),1))"
   ]
  },
  {
   "cell_type": "code",
   "execution_count": 113,
   "metadata": {},
   "outputs": [
    {
     "name": "stdout",
     "output_type": "stream",
     "text": [
      "[[ 8.51184389]\n",
      " [18.61559059]]\n"
     ]
    }
   ],
   "source": [
    "print(polynomial_regression(X,y,theta,0.1,1,X,10))"
   ]
  },
  {
   "cell_type": "code",
   "execution_count": null,
   "metadata": {},
   "outputs": [],
   "source": []
  }
 ],
 "metadata": {
  "kernelspec": {
   "display_name": "Python 3",
   "language": "python",
   "name": "python3"
  },
  "language_info": {
   "codemirror_mode": {
    "name": "ipython",
    "version": 3
   },
   "file_extension": ".py",
   "mimetype": "text/x-python",
   "name": "python",
   "nbconvert_exporter": "python",
   "pygments_lexer": "ipython3",
   "version": "3.6.9"
  }
 },
 "nbformat": 4,
 "nbformat_minor": 2
}
